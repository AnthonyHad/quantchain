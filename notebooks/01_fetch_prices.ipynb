{
 "cells": [
  {
   "cell_type": "code",
   "execution_count": 1,
   "id": "af5c83bd",
   "metadata": {},
   "outputs": [
    {
     "name": "stdout",
     "output_type": "stream",
     "text": [
      "Saved → ../data/btc_usdt_1d.csv (1276 rows)\n",
      "Saved → ../data/eth_usdt_1d.csv (1276 rows)\n"
     ]
    }
   ],
   "source": [
    "import ccxt, pandas as pd, pathlib, datetime as dt\n",
    "\n",
    "# ---------- settings ----------\n",
    "symbols = [\"BTC/USDT\", \"ETH/USDT\"]\n",
    "since   = ccxt.binance().parse8601(\"'2022-01-01T00:00:00Z'\")  # 1 Jan 2020\n",
    "out_dir = pathlib.Path(\"../data\")\n",
    "out_dir.mkdir(exist_ok=True)\n",
    "\n",
    "exchange = ccxt.binance()\n",
    "\n",
    "cols = [\"timestamp\",\"open\",\"high\",\"low\",\"close\",\"volume\"]\n",
    "\n",
    "def fetch_all_ohlcv(exchange, symbol, timeframe, since, limit=500):\n",
    "    \"\"\"\n",
    "    Loop through the CCXT fetch_ohlcv endpoint until no more new bars\n",
    "    come back. Returns one big list of [ts, open, high, low, close, vol].\n",
    "    \"\"\"\n",
    "    all_bars = []\n",
    "    while True:\n",
    "        bars = exchange.fetch_ohlcv(symbol, timeframe=timeframe, since=since, limit=limit)\n",
    "        if not bars:\n",
    "            break\n",
    "        all_bars += bars\n",
    "        # advance since to just after the last timestamp we got:\n",
    "        since = bars[-1][0] + 1\n",
    "        # if we received fewer than `limit` bars, we’re done\n",
    "        if len(bars) < limit:\n",
    "            break\n",
    "    return all_bars\n",
    "\n",
    "\n",
    "\n",
    "for pair in symbols:\n",
    "    raw = fetch_all_ohlcv(exchange, pair, timeframe=\"1d\", since=since, limit=500)\n",
    "    df  = pd.DataFrame(raw, columns=cols)\n",
    "    df[\"timestamp\"] = pd.to_datetime(df[\"timestamp\"], unit=\"ms\", utc=True)\n",
    "    # convert ms -> datetime, set UTC\n",
    "    df[\"timestamp\"] = pd.to_datetime(df[\"timestamp\"], unit=\"ms\", utc=True)\n",
    "    asset = pair.split(\"/\")[0].lower()          # \"btc\" or \"eth\"\n",
    "    file  = out_dir / f\"{asset}_usdt_1d.csv\"\n",
    "    df.to_csv(file, index=False)\n",
    "    print(f\"Saved → {file} ({len(df)} rows)\")\n"
   ]
  }
 ],
 "metadata": {
  "kernelspec": {
   "display_name": "quantchain",
   "language": "python",
   "name": "python3"
  },
  "language_info": {
   "codemirror_mode": {
    "name": "ipython",
    "version": 3
   },
   "file_extension": ".py",
   "mimetype": "text/x-python",
   "name": "python",
   "nbconvert_exporter": "python",
   "pygments_lexer": "ipython3",
   "version": "3.11.13"
  }
 },
 "nbformat": 4,
 "nbformat_minor": 5
}
